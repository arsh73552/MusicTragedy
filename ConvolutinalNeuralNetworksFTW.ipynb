{
 "cells": [
  {
   "cell_type": "code",
   "execution_count": 21,
   "metadata": {},
   "outputs": [],
   "source": [
    "from calendar import EPOCH\n",
    "import cv2\n",
    "import numpy as np\n",
    "import os\n",
    "import sys\n",
    "from sklearn.model_selection import train_test_split\n",
    "import tensorflow as tf\n",
    "EPOCHS = 10\n",
    "path = r'C:\\Users\\arsh0\\OneDrive\\Documents\\MachineLearning\\MusicTragedy\\Data\\images_original'\n",
    "IMGDIM = (30, 30)"
   ]
  },
  {
   "cell_type": "code",
   "execution_count": 22,
   "metadata": {},
   "outputs": [],
   "source": [
    "def load_data():\n",
    "    spectrogram = []\n",
    "    labels = []\n",
    "    count = 0\n",
    "    for folder in os.listdir(path):\n",
    "        print(\"Folder Number: \" + str(count))\n",
    "        for file in os.listdir(os.path.join(path, folder)):\n",
    "            image =  cv2.imread(os.path.join(os.path.join(path, folder), file))\n",
    "            image  = cv2.resize(image, IMGDIM)\n",
    "            image = np.asarray(image)\n",
    "            spectrogram.append(image)\n",
    "            labels.append(count)\n",
    "        count += 1\n",
    "    labels = tf.keras.utils.to_categorical(labels)\n",
    "    return (spectrogram, labels)"
   ]
  },
  {
   "cell_type": "code",
   "execution_count": 25,
   "metadata": {},
   "outputs": [],
   "source": [
    "def get_model():\n",
    "    model = tf.keras.models.Sequential([\n",
    "            tf.keras.layers.Conv2D(64, (5, 5), activation = \"LeakyReLU\", input_shape = (30, 30, 3), kernel_regularizer = tf.keras.regularizers.L1(0.2)),\n",
    "            tf.keras.layers.Flatten(),\n",
    "            tf.keras.layers.Dropout(0.3),\n",
    "            tf.keras.layers.Dense(10, activation = \"softmax\")\n",
    "    ])\n",
    "    model.compile(optimizer = \"adam\", loss = \"categorical_crossentropy\", metrics = [\"accuracy\"])\n",
    "    return model"
   ]
  },
  {
   "cell_type": "code",
   "execution_count": 28,
   "metadata": {},
   "outputs": [
    {
     "name": "stdout",
     "output_type": "stream",
     "text": [
      "Folder Number: 0\n",
      "Folder Number: 1\n",
      "Folder Number: 2\n",
      "Folder Number: 3\n",
      "Folder Number: 4\n",
      "Folder Number: 5\n",
      "Folder Number: 6\n",
      "Folder Number: 7\n",
      "Folder Number: 8\n",
      "Folder Number: 9\n"
     ]
    },
    {
     "ename": "ResourceExhaustedError",
     "evalue": "OOM when allocating tensor with shape[5,5,3,64] and type float on /job:localhost/replica:0/task:0/device:GPU:0 by allocator GPU_0_bfc [Op:RandomUniform]",
     "output_type": "error",
     "traceback": [
      "\u001b[1;31m---------------------------------------------------------------------------\u001b[0m",
      "\u001b[1;31mResourceExhaustedError\u001b[0m                    Traceback (most recent call last)",
      "\u001b[1;32mc:\\Users\\arsh0\\OneDrive\\Documents\\MachineLearning\\MusicTragedy\\ConvolutinalNeuralNetworksFTW.ipynb Cell 4\u001b[0m in \u001b[0;36m<cell line: 5>\u001b[1;34m()\u001b[0m\n\u001b[0;32m      <a href='vscode-notebook-cell:/c%3A/Users/arsh0/OneDrive/Documents/MachineLearning/MusicTragedy/ConvolutinalNeuralNetworksFTW.ipynb#W2sZmlsZQ%3D%3D?line=0'>1</a>\u001b[0m spectrogram , labels \u001b[39m=\u001b[39m load_data()\n\u001b[0;32m      <a href='vscode-notebook-cell:/c%3A/Users/arsh0/OneDrive/Documents/MachineLearning/MusicTragedy/ConvolutinalNeuralNetworksFTW.ipynb#W2sZmlsZQ%3D%3D?line=1'>2</a>\u001b[0m x_train, x_test, y_train, y_test \u001b[39m=\u001b[39m train_test_split(\n\u001b[0;32m      <a href='vscode-notebook-cell:/c%3A/Users/arsh0/OneDrive/Documents/MachineLearning/MusicTragedy/ConvolutinalNeuralNetworksFTW.ipynb#W2sZmlsZQ%3D%3D?line=2'>3</a>\u001b[0m     np\u001b[39m.\u001b[39marray(spectrogram), np\u001b[39m.\u001b[39marray(labels), test_size \u001b[39m=\u001b[39m \u001b[39m0.3\u001b[39m\n\u001b[0;32m      <a href='vscode-notebook-cell:/c%3A/Users/arsh0/OneDrive/Documents/MachineLearning/MusicTragedy/ConvolutinalNeuralNetworksFTW.ipynb#W2sZmlsZQ%3D%3D?line=3'>4</a>\u001b[0m )\n\u001b[1;32m----> <a href='vscode-notebook-cell:/c%3A/Users/arsh0/OneDrive/Documents/MachineLearning/MusicTragedy/ConvolutinalNeuralNetworksFTW.ipynb#W2sZmlsZQ%3D%3D?line=4'>5</a>\u001b[0m model \u001b[39m=\u001b[39m get_model()\n\u001b[0;32m      <a href='vscode-notebook-cell:/c%3A/Users/arsh0/OneDrive/Documents/MachineLearning/MusicTragedy/ConvolutinalNeuralNetworksFTW.ipynb#W2sZmlsZQ%3D%3D?line=5'>6</a>\u001b[0m model\u001b[39m.\u001b[39mfit(x_train, y_train, epochs \u001b[39m=\u001b[39m EPOCHS, verbose \u001b[39m=\u001b[39m \u001b[39m1\u001b[39m, batch_size \u001b[39m=\u001b[39m \u001b[39m1\u001b[39m)\n\u001b[0;32m      <a href='vscode-notebook-cell:/c%3A/Users/arsh0/OneDrive/Documents/MachineLearning/MusicTragedy/ConvolutinalNeuralNetworksFTW.ipynb#W2sZmlsZQ%3D%3D?line=6'>7</a>\u001b[0m model\u001b[39m.\u001b[39mevaluate(x_test, y_test)\n",
      "\u001b[1;32mc:\\Users\\arsh0\\OneDrive\\Documents\\MachineLearning\\MusicTragedy\\ConvolutinalNeuralNetworksFTW.ipynb Cell 4\u001b[0m in \u001b[0;36mget_model\u001b[1;34m()\u001b[0m\n\u001b[0;32m      <a href='vscode-notebook-cell:/c%3A/Users/arsh0/OneDrive/Documents/MachineLearning/MusicTragedy/ConvolutinalNeuralNetworksFTW.ipynb#W2sZmlsZQ%3D%3D?line=0'>1</a>\u001b[0m \u001b[39mdef\u001b[39;00m \u001b[39mget_model\u001b[39m():\n\u001b[1;32m----> <a href='vscode-notebook-cell:/c%3A/Users/arsh0/OneDrive/Documents/MachineLearning/MusicTragedy/ConvolutinalNeuralNetworksFTW.ipynb#W2sZmlsZQ%3D%3D?line=1'>2</a>\u001b[0m     model \u001b[39m=\u001b[39m tf\u001b[39m.\u001b[39;49mkeras\u001b[39m.\u001b[39;49mmodels\u001b[39m.\u001b[39;49mSequential([\n\u001b[0;32m      <a href='vscode-notebook-cell:/c%3A/Users/arsh0/OneDrive/Documents/MachineLearning/MusicTragedy/ConvolutinalNeuralNetworksFTW.ipynb#W2sZmlsZQ%3D%3D?line=2'>3</a>\u001b[0m             tf\u001b[39m.\u001b[39;49mkeras\u001b[39m.\u001b[39;49mlayers\u001b[39m.\u001b[39;49mConv2D(\u001b[39m64\u001b[39;49m, (\u001b[39m5\u001b[39;49m, \u001b[39m5\u001b[39;49m), activation \u001b[39m=\u001b[39;49m \u001b[39m\"\u001b[39;49m\u001b[39mLeakyReLU\u001b[39;49m\u001b[39m\"\u001b[39;49m, input_shape \u001b[39m=\u001b[39;49m (\u001b[39m30\u001b[39;49m, \u001b[39m30\u001b[39;49m, \u001b[39m3\u001b[39;49m), kernel_regularizer \u001b[39m=\u001b[39;49m tf\u001b[39m.\u001b[39;49mkeras\u001b[39m.\u001b[39;49mregularizers\u001b[39m.\u001b[39;49mL1(\u001b[39m0.2\u001b[39;49m)),\n\u001b[0;32m      <a href='vscode-notebook-cell:/c%3A/Users/arsh0/OneDrive/Documents/MachineLearning/MusicTragedy/ConvolutinalNeuralNetworksFTW.ipynb#W2sZmlsZQ%3D%3D?line=3'>4</a>\u001b[0m             tf\u001b[39m.\u001b[39;49mkeras\u001b[39m.\u001b[39;49mlayers\u001b[39m.\u001b[39;49mFlatten(),\n\u001b[0;32m      <a href='vscode-notebook-cell:/c%3A/Users/arsh0/OneDrive/Documents/MachineLearning/MusicTragedy/ConvolutinalNeuralNetworksFTW.ipynb#W2sZmlsZQ%3D%3D?line=4'>5</a>\u001b[0m             tf\u001b[39m.\u001b[39;49mkeras\u001b[39m.\u001b[39;49mlayers\u001b[39m.\u001b[39;49mDropout(\u001b[39m0.3\u001b[39;49m),\n\u001b[0;32m      <a href='vscode-notebook-cell:/c%3A/Users/arsh0/OneDrive/Documents/MachineLearning/MusicTragedy/ConvolutinalNeuralNetworksFTW.ipynb#W2sZmlsZQ%3D%3D?line=5'>6</a>\u001b[0m             tf\u001b[39m.\u001b[39;49mkeras\u001b[39m.\u001b[39;49mlayers\u001b[39m.\u001b[39;49mDense(\u001b[39m10\u001b[39;49m, activation \u001b[39m=\u001b[39;49m \u001b[39m\"\u001b[39;49m\u001b[39msoftmax\u001b[39;49m\u001b[39m\"\u001b[39;49m)\n\u001b[0;32m      <a href='vscode-notebook-cell:/c%3A/Users/arsh0/OneDrive/Documents/MachineLearning/MusicTragedy/ConvolutinalNeuralNetworksFTW.ipynb#W2sZmlsZQ%3D%3D?line=6'>7</a>\u001b[0m     ])\n\u001b[0;32m      <a href='vscode-notebook-cell:/c%3A/Users/arsh0/OneDrive/Documents/MachineLearning/MusicTragedy/ConvolutinalNeuralNetworksFTW.ipynb#W2sZmlsZQ%3D%3D?line=7'>8</a>\u001b[0m     model\u001b[39m.\u001b[39mcompile(optimizer \u001b[39m=\u001b[39m \u001b[39m\"\u001b[39m\u001b[39madam\u001b[39m\u001b[39m\"\u001b[39m, loss \u001b[39m=\u001b[39m \u001b[39m\"\u001b[39m\u001b[39mcategorical_crossentropy\u001b[39m\u001b[39m\"\u001b[39m, metrics \u001b[39m=\u001b[39m [\u001b[39m\"\u001b[39m\u001b[39maccuracy\u001b[39m\u001b[39m\"\u001b[39m])\n\u001b[0;32m      <a href='vscode-notebook-cell:/c%3A/Users/arsh0/OneDrive/Documents/MachineLearning/MusicTragedy/ConvolutinalNeuralNetworksFTW.ipynb#W2sZmlsZQ%3D%3D?line=8'>9</a>\u001b[0m     \u001b[39mreturn\u001b[39;00m model\n",
      "File \u001b[1;32mc:\\Users\\arsh0\\AppData\\Local\\Programs\\Python\\Python310\\lib\\site-packages\\tensorflow\\python\\training\\tracking\\base.py:587\u001b[0m, in \u001b[0;36mno_automatic_dependency_tracking.<locals>._method_wrapper\u001b[1;34m(self, *args, **kwargs)\u001b[0m\n\u001b[0;32m    585\u001b[0m \u001b[39mself\u001b[39m\u001b[39m.\u001b[39m_self_setattr_tracking \u001b[39m=\u001b[39m \u001b[39mFalse\u001b[39;00m  \u001b[39m# pylint: disable=protected-access\u001b[39;00m\n\u001b[0;32m    586\u001b[0m \u001b[39mtry\u001b[39;00m:\n\u001b[1;32m--> 587\u001b[0m   result \u001b[39m=\u001b[39m method(\u001b[39mself\u001b[39m, \u001b[39m*\u001b[39margs, \u001b[39m*\u001b[39m\u001b[39m*\u001b[39mkwargs)\n\u001b[0;32m    588\u001b[0m \u001b[39mfinally\u001b[39;00m:\n\u001b[0;32m    589\u001b[0m   \u001b[39mself\u001b[39m\u001b[39m.\u001b[39m_self_setattr_tracking \u001b[39m=\u001b[39m previous_value  \u001b[39m# pylint: disable=protected-access\u001b[39;00m\n",
      "File \u001b[1;32mc:\\Users\\arsh0\\AppData\\Local\\Programs\\Python\\Python310\\lib\\site-packages\\keras\\utils\\traceback_utils.py:67\u001b[0m, in \u001b[0;36mfilter_traceback.<locals>.error_handler\u001b[1;34m(*args, **kwargs)\u001b[0m\n\u001b[0;32m     65\u001b[0m \u001b[39mexcept\u001b[39;00m \u001b[39mException\u001b[39;00m \u001b[39mas\u001b[39;00m e:  \u001b[39m# pylint: disable=broad-except\u001b[39;00m\n\u001b[0;32m     66\u001b[0m   filtered_tb \u001b[39m=\u001b[39m _process_traceback_frames(e\u001b[39m.\u001b[39m__traceback__)\n\u001b[1;32m---> 67\u001b[0m   \u001b[39mraise\u001b[39;00m e\u001b[39m.\u001b[39mwith_traceback(filtered_tb) \u001b[39mfrom\u001b[39;00m \u001b[39mNone\u001b[39m\n\u001b[0;32m     68\u001b[0m \u001b[39mfinally\u001b[39;00m:\n\u001b[0;32m     69\u001b[0m   \u001b[39mdel\u001b[39;00m filtered_tb\n",
      "File \u001b[1;32mc:\\Users\\arsh0\\AppData\\Local\\Programs\\Python\\Python310\\lib\\site-packages\\keras\\backend.py:1920\u001b[0m, in \u001b[0;36mRandomGenerator.random_uniform\u001b[1;34m(self, shape, minval, maxval, dtype)\u001b[0m\n\u001b[0;32m   1917\u001b[0m \u001b[39mif\u001b[39;00m \u001b[39mself\u001b[39m\u001b[39m.\u001b[39m_generator:\n\u001b[0;32m   1918\u001b[0m   \u001b[39mreturn\u001b[39;00m \u001b[39mself\u001b[39m\u001b[39m.\u001b[39m_generator\u001b[39m.\u001b[39muniform(\n\u001b[0;32m   1919\u001b[0m       shape\u001b[39m=\u001b[39mshape, minval\u001b[39m=\u001b[39mminval, maxval\u001b[39m=\u001b[39mmaxval, dtype\u001b[39m=\u001b[39mdtype)\n\u001b[1;32m-> 1920\u001b[0m \u001b[39mreturn\u001b[39;00m tf\u001b[39m.\u001b[39;49mrandom\u001b[39m.\u001b[39;49muniform(\n\u001b[0;32m   1921\u001b[0m     shape\u001b[39m=\u001b[39;49mshape, minval\u001b[39m=\u001b[39;49mminval, maxval\u001b[39m=\u001b[39;49mmaxval, dtype\u001b[39m=\u001b[39;49mdtype,\n\u001b[0;32m   1922\u001b[0m     seed\u001b[39m=\u001b[39;49m\u001b[39mself\u001b[39;49m\u001b[39m.\u001b[39;49mmake_legacy_seed())\n",
      "\u001b[1;31mResourceExhaustedError\u001b[0m: OOM when allocating tensor with shape[5,5,3,64] and type float on /job:localhost/replica:0/task:0/device:GPU:0 by allocator GPU_0_bfc [Op:RandomUniform]"
     ]
    }
   ],
   "source": [
    "spectrogram , labels = load_data()\n",
    "x_train, x_test, y_train, y_test = train_test_split(\n",
    "    np.array(spectrogram), np.array(labels), test_size = 0.3\n",
    ")\n",
    "model = get_model()\n",
    "model.fit(x_train, y_train, epochs = EPOCHS, verbose = 1, batch_size = 1)\n",
    "model.evaluate(x_test, y_test)"
   ]
  }
 ],
 "metadata": {
  "kernelspec": {
   "display_name": "Python 3.10.5 64-bit",
   "language": "python",
   "name": "python3"
  },
  "language_info": {
   "codemirror_mode": {
    "name": "ipython",
    "version": 3
   },
   "file_extension": ".py",
   "mimetype": "text/x-python",
   "name": "python",
   "nbconvert_exporter": "python",
   "pygments_lexer": "ipython3",
   "version": "3.10.5"
  },
  "orig_nbformat": 4,
  "vscode": {
   "interpreter": {
    "hash": "d2d29a96801dfe5bf700e242782afe03629fc595f513e6b443d9d8130ab5dc29"
   }
  }
 },
 "nbformat": 4,
 "nbformat_minor": 2
}
