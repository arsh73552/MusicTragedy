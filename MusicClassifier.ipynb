{
 "cells": [
  {
   "cell_type": "code",
   "execution_count": 63,
   "metadata": {},
   "outputs": [],
   "source": [
    "import tensorflow_datasets as tfds\n",
    "import pandas as pd\n",
    "import cv2\n",
    "from sklearn.tree import plot_tree\n",
    "from sklearn import metrics\n",
    "from sklearn.metrics import classification_report\n",
    "from sklearn.preprocessing import LabelEncoder\n",
    "from sklearn.preprocessing import StandardScaler\n",
    "from sklearn.metrics import classification_report, confusion_matrix"
   ]
  },
  {
   "cell_type": "code",
   "execution_count": 64,
   "metadata": {},
   "outputs": [
    {
     "data": {
      "text/html": [
       "<div>\n",
       "<style scoped>\n",
       "    .dataframe tbody tr th:only-of-type {\n",
       "        vertical-align: middle;\n",
       "    }\n",
       "\n",
       "    .dataframe tbody tr th {\n",
       "        vertical-align: top;\n",
       "    }\n",
       "\n",
       "    .dataframe thead th {\n",
       "        text-align: right;\n",
       "    }\n",
       "</style>\n",
       "<table border=\"1\" class=\"dataframe\">\n",
       "  <thead>\n",
       "    <tr style=\"text-align: right;\">\n",
       "      <th></th>\n",
       "      <th>length</th>\n",
       "      <th>chroma_stft_mean</th>\n",
       "      <th>chroma_stft_var</th>\n",
       "      <th>rms_mean</th>\n",
       "      <th>rms_var</th>\n",
       "      <th>spectral_centroid_mean</th>\n",
       "      <th>spectral_centroid_var</th>\n",
       "      <th>spectral_bandwidth_mean</th>\n",
       "      <th>spectral_bandwidth_var</th>\n",
       "      <th>rolloff_mean</th>\n",
       "      <th>...</th>\n",
       "      <th>mfcc16_mean</th>\n",
       "      <th>mfcc16_var</th>\n",
       "      <th>mfcc17_mean</th>\n",
       "      <th>mfcc17_var</th>\n",
       "      <th>mfcc18_mean</th>\n",
       "      <th>mfcc18_var</th>\n",
       "      <th>mfcc19_mean</th>\n",
       "      <th>mfcc19_var</th>\n",
       "      <th>mfcc20_mean</th>\n",
       "      <th>mfcc20_var</th>\n",
       "    </tr>\n",
       "  </thead>\n",
       "  <tbody>\n",
       "    <tr>\n",
       "      <th>count</th>\n",
       "      <td>1000.000000</td>\n",
       "      <td>1000.000000</td>\n",
       "      <td>1000.000000</td>\n",
       "      <td>1000.000000</td>\n",
       "      <td>1000.000000</td>\n",
       "      <td>1000.000000</td>\n",
       "      <td>1.000000e+03</td>\n",
       "      <td>1000.000000</td>\n",
       "      <td>1000.000000</td>\n",
       "      <td>1000.000000</td>\n",
       "      <td>...</td>\n",
       "      <td>1000.000000</td>\n",
       "      <td>1000.000000</td>\n",
       "      <td>1000.000000</td>\n",
       "      <td>1000.000000</td>\n",
       "      <td>1000.000000</td>\n",
       "      <td>1000.000000</td>\n",
       "      <td>1000.000000</td>\n",
       "      <td>1000.000000</td>\n",
       "      <td>1000.000000</td>\n",
       "      <td>1000.000000</td>\n",
       "    </tr>\n",
       "    <tr>\n",
       "      <th>mean</th>\n",
       "      <td>662030.846000</td>\n",
       "      <td>0.378682</td>\n",
       "      <td>0.086340</td>\n",
       "      <td>0.130930</td>\n",
       "      <td>0.003051</td>\n",
       "      <td>2201.780898</td>\n",
       "      <td>4.696916e+05</td>\n",
       "      <td>2242.541070</td>\n",
       "      <td>137079.155165</td>\n",
       "      <td>4571.549304</td>\n",
       "      <td>...</td>\n",
       "      <td>1.148144</td>\n",
       "      <td>60.730958</td>\n",
       "      <td>-3.966028</td>\n",
       "      <td>62.633624</td>\n",
       "      <td>0.507696</td>\n",
       "      <td>63.712586</td>\n",
       "      <td>-2.328761</td>\n",
       "      <td>66.231930</td>\n",
       "      <td>-1.095348</td>\n",
       "      <td>70.126096</td>\n",
       "    </tr>\n",
       "    <tr>\n",
       "      <th>std</th>\n",
       "      <td>1784.073992</td>\n",
       "      <td>0.081705</td>\n",
       "      <td>0.007735</td>\n",
       "      <td>0.065683</td>\n",
       "      <td>0.003634</td>\n",
       "      <td>715.960600</td>\n",
       "      <td>4.008995e+05</td>\n",
       "      <td>526.316473</td>\n",
       "      <td>96455.666326</td>\n",
       "      <td>1574.791602</td>\n",
       "      <td>...</td>\n",
       "      <td>4.578948</td>\n",
       "      <td>33.781951</td>\n",
       "      <td>4.549697</td>\n",
       "      <td>33.479172</td>\n",
       "      <td>3.869105</td>\n",
       "      <td>34.401977</td>\n",
       "      <td>3.755957</td>\n",
       "      <td>37.174631</td>\n",
       "      <td>3.837007</td>\n",
       "      <td>45.228512</td>\n",
       "    </tr>\n",
       "    <tr>\n",
       "      <th>min</th>\n",
       "      <td>660000.000000</td>\n",
       "      <td>0.171939</td>\n",
       "      <td>0.044555</td>\n",
       "      <td>0.005276</td>\n",
       "      <td>0.000004</td>\n",
       "      <td>570.040355</td>\n",
       "      <td>7.911251e+03</td>\n",
       "      <td>898.066208</td>\n",
       "      <td>10787.185064</td>\n",
       "      <td>749.140636</td>\n",
       "      <td>...</td>\n",
       "      <td>-15.693844</td>\n",
       "      <td>9.169314</td>\n",
       "      <td>-17.234728</td>\n",
       "      <td>13.931521</td>\n",
       "      <td>-11.963694</td>\n",
       "      <td>15.420555</td>\n",
       "      <td>-18.501955</td>\n",
       "      <td>13.487622</td>\n",
       "      <td>-19.929634</td>\n",
       "      <td>7.956583</td>\n",
       "    </tr>\n",
       "    <tr>\n",
       "      <th>25%</th>\n",
       "      <td>661504.000000</td>\n",
       "      <td>0.319562</td>\n",
       "      <td>0.082298</td>\n",
       "      <td>0.086657</td>\n",
       "      <td>0.000942</td>\n",
       "      <td>1627.697311</td>\n",
       "      <td>1.843505e+05</td>\n",
       "      <td>1907.240605</td>\n",
       "      <td>67376.554428</td>\n",
       "      <td>3380.069642</td>\n",
       "      <td>...</td>\n",
       "      <td>-1.863280</td>\n",
       "      <td>40.376442</td>\n",
       "      <td>-7.207225</td>\n",
       "      <td>40.830875</td>\n",
       "      <td>-2.007015</td>\n",
       "      <td>41.884240</td>\n",
       "      <td>-4.662925</td>\n",
       "      <td>41.710184</td>\n",
       "      <td>-3.368996</td>\n",
       "      <td>42.372865</td>\n",
       "    </tr>\n",
       "    <tr>\n",
       "      <th>50%</th>\n",
       "      <td>661794.000000</td>\n",
       "      <td>0.383148</td>\n",
       "      <td>0.086615</td>\n",
       "      <td>0.122443</td>\n",
       "      <td>0.001816</td>\n",
       "      <td>2209.263090</td>\n",
       "      <td>3.384862e+05</td>\n",
       "      <td>2221.392843</td>\n",
       "      <td>111977.548036</td>\n",
       "      <td>4658.524473</td>\n",
       "      <td>...</td>\n",
       "      <td>1.212809</td>\n",
       "      <td>52.325077</td>\n",
       "      <td>-4.065605</td>\n",
       "      <td>54.717674</td>\n",
       "      <td>0.669643</td>\n",
       "      <td>54.804890</td>\n",
       "      <td>-2.393862</td>\n",
       "      <td>57.423059</td>\n",
       "      <td>-1.166289</td>\n",
       "      <td>59.186117</td>\n",
       "    </tr>\n",
       "    <tr>\n",
       "      <th>75%</th>\n",
       "      <td>661794.000000</td>\n",
       "      <td>0.435942</td>\n",
       "      <td>0.091256</td>\n",
       "      <td>0.175682</td>\n",
       "      <td>0.003577</td>\n",
       "      <td>2691.294667</td>\n",
       "      <td>6.121479e+05</td>\n",
       "      <td>2578.469836</td>\n",
       "      <td>182371.576801</td>\n",
       "      <td>5533.810460</td>\n",
       "      <td>...</td>\n",
       "      <td>4.359662</td>\n",
       "      <td>71.691755</td>\n",
       "      <td>-0.838737</td>\n",
       "      <td>75.040838</td>\n",
       "      <td>3.119212</td>\n",
       "      <td>75.385832</td>\n",
       "      <td>0.150573</td>\n",
       "      <td>78.626444</td>\n",
       "      <td>1.312615</td>\n",
       "      <td>85.375374</td>\n",
       "    </tr>\n",
       "    <tr>\n",
       "      <th>max</th>\n",
       "      <td>675808.000000</td>\n",
       "      <td>0.663685</td>\n",
       "      <td>0.108111</td>\n",
       "      <td>0.397973</td>\n",
       "      <td>0.027679</td>\n",
       "      <td>4435.243901</td>\n",
       "      <td>3.036843e+06</td>\n",
       "      <td>3509.646417</td>\n",
       "      <td>694784.811549</td>\n",
       "      <td>8677.672688</td>\n",
       "      <td>...</td>\n",
       "      <td>13.457150</td>\n",
       "      <td>392.932373</td>\n",
       "      <td>11.482946</td>\n",
       "      <td>406.058868</td>\n",
       "      <td>15.388390</td>\n",
       "      <td>332.905426</td>\n",
       "      <td>14.694924</td>\n",
       "      <td>393.161987</td>\n",
       "      <td>15.369627</td>\n",
       "      <td>506.065155</td>\n",
       "    </tr>\n",
       "  </tbody>\n",
       "</table>\n",
       "<p>8 rows × 58 columns</p>\n",
       "</div>"
      ],
      "text/plain": [
       "              length  chroma_stft_mean  chroma_stft_var     rms_mean  \\\n",
       "count    1000.000000       1000.000000      1000.000000  1000.000000   \n",
       "mean   662030.846000          0.378682         0.086340     0.130930   \n",
       "std      1784.073992          0.081705         0.007735     0.065683   \n",
       "min    660000.000000          0.171939         0.044555     0.005276   \n",
       "25%    661504.000000          0.319562         0.082298     0.086657   \n",
       "50%    661794.000000          0.383148         0.086615     0.122443   \n",
       "75%    661794.000000          0.435942         0.091256     0.175682   \n",
       "max    675808.000000          0.663685         0.108111     0.397973   \n",
       "\n",
       "           rms_var  spectral_centroid_mean  spectral_centroid_var  \\\n",
       "count  1000.000000             1000.000000           1.000000e+03   \n",
       "mean      0.003051             2201.780898           4.696916e+05   \n",
       "std       0.003634              715.960600           4.008995e+05   \n",
       "min       0.000004              570.040355           7.911251e+03   \n",
       "25%       0.000942             1627.697311           1.843505e+05   \n",
       "50%       0.001816             2209.263090           3.384862e+05   \n",
       "75%       0.003577             2691.294667           6.121479e+05   \n",
       "max       0.027679             4435.243901           3.036843e+06   \n",
       "\n",
       "       spectral_bandwidth_mean  spectral_bandwidth_var  rolloff_mean  ...  \\\n",
       "count              1000.000000             1000.000000   1000.000000  ...   \n",
       "mean               2242.541070           137079.155165   4571.549304  ...   \n",
       "std                 526.316473            96455.666326   1574.791602  ...   \n",
       "min                 898.066208            10787.185064    749.140636  ...   \n",
       "25%                1907.240605            67376.554428   3380.069642  ...   \n",
       "50%                2221.392843           111977.548036   4658.524473  ...   \n",
       "75%                2578.469836           182371.576801   5533.810460  ...   \n",
       "max                3509.646417           694784.811549   8677.672688  ...   \n",
       "\n",
       "       mfcc16_mean   mfcc16_var  mfcc17_mean   mfcc17_var  mfcc18_mean  \\\n",
       "count  1000.000000  1000.000000  1000.000000  1000.000000  1000.000000   \n",
       "mean      1.148144    60.730958    -3.966028    62.633624     0.507696   \n",
       "std       4.578948    33.781951     4.549697    33.479172     3.869105   \n",
       "min     -15.693844     9.169314   -17.234728    13.931521   -11.963694   \n",
       "25%      -1.863280    40.376442    -7.207225    40.830875    -2.007015   \n",
       "50%       1.212809    52.325077    -4.065605    54.717674     0.669643   \n",
       "75%       4.359662    71.691755    -0.838737    75.040838     3.119212   \n",
       "max      13.457150   392.932373    11.482946   406.058868    15.388390   \n",
       "\n",
       "        mfcc18_var  mfcc19_mean   mfcc19_var  mfcc20_mean   mfcc20_var  \n",
       "count  1000.000000  1000.000000  1000.000000  1000.000000  1000.000000  \n",
       "mean     63.712586    -2.328761    66.231930    -1.095348    70.126096  \n",
       "std      34.401977     3.755957    37.174631     3.837007    45.228512  \n",
       "min      15.420555   -18.501955    13.487622   -19.929634     7.956583  \n",
       "25%      41.884240    -4.662925    41.710184    -3.368996    42.372865  \n",
       "50%      54.804890    -2.393862    57.423059    -1.166289    59.186117  \n",
       "75%      75.385832     0.150573    78.626444     1.312615    85.375374  \n",
       "max     332.905426    14.694924   393.161987    15.369627   506.065155  \n",
       "\n",
       "[8 rows x 58 columns]"
      ]
     },
     "execution_count": 64,
     "metadata": {},
     "output_type": "execute_result"
    }
   ],
   "source": [
    "data = pd.read_csv(r'C:\\Users\\arsh0\\OneDrive\\Documents\\MachineLearning\\MusicTragedy\\Data\\features_30_sec.csv')\n",
    "data.describe()"
   ]
  },
  {
   "cell_type": "code",
   "execution_count": 65,
   "metadata": {},
   "outputs": [
    {
     "data": {
      "text/plain": [
       "(1000, 60)"
      ]
     },
     "execution_count": 65,
     "metadata": {},
     "output_type": "execute_result"
    }
   ],
   "source": [
    "data.shape"
   ]
  },
  {
   "cell_type": "code",
   "execution_count": 66,
   "metadata": {},
   "outputs": [],
   "source": [
    "def accuracy(y_test, y_pred):\n",
    "    tCounter = 0\n",
    "    fCounter = 0\n",
    "    for i in range(len(y_pred)):\n",
    "        if(y_pred[i] == y_test[i]):\n",
    "            tCounter += 1\n",
    "        else:\n",
    "            fCounter += 1\n",
    "    print(tCounter/(tCounter + fCounter))"
   ]
  },
  {
   "cell_type": "code",
   "execution_count": 67,
   "metadata": {},
   "outputs": [],
   "source": [
    "import numpy as np\n",
    "X = data.values[:, 2:59]\n",
    "scaler = StandardScaler()\n",
    "X = scaler.fit_transform(X)\n",
    "Y = data.values[:, 59]\n",
    "le = LabelEncoder()\n",
    "Y = le.fit_transform(Y)"
   ]
  },
  {
   "cell_type": "code",
   "execution_count": 68,
   "metadata": {},
   "outputs": [],
   "source": [
    "from sklearn.model_selection import train_test_split\n",
    "from sklearn.metrics import accuracy_score\n",
    "from sklearn.tree import DecisionTreeClassifier\n",
    "from sklearn.ensemble import RandomForestClassifier\n",
    "from xgboost import XGBClassifier\n",
    "from scipy.interpolate import make_interp_spline\n",
    "import matplotlib.pyplot as plt\n",
    "import numpy as np\n",
    "dtree = DecisionTreeClassifier()\n",
    "xgb = XGBClassifier(learning_rate = 0.34)\n",
    "rforest = RandomForestClassifier()\n",
    "x_train, x_test, y_train, y_test = train_test_split(X, Y, test_size = 0.2)"
   ]
  },
  {
   "cell_type": "code",
   "execution_count": 69,
   "metadata": {},
   "outputs": [
    {
     "name": "stdout",
     "output_type": "stream",
     "text": [
      "              precision    recall  f1-score   support\n",
      "\n",
      "           0       0.50      0.60      0.55        15\n",
      "           1       0.85      0.85      0.85        20\n",
      "           2       0.58      0.37      0.45        19\n",
      "           3       0.54      0.52      0.53        25\n",
      "           4       0.57      0.57      0.57        21\n",
      "           5       0.55      0.75      0.63        16\n",
      "           6       0.68      0.76      0.72        17\n",
      "           7       0.68      0.60      0.64        25\n",
      "           8       0.40      0.33      0.36        18\n",
      "           9       0.33      0.38      0.35        24\n",
      "\n",
      "    accuracy                           0.56       200\n",
      "   macro avg       0.57      0.57      0.57       200\n",
      "weighted avg       0.57      0.56      0.56       200\n",
      "\n"
     ]
    },
    {
     "data": {
      "image/png": "[encoded data removed]",
      "text/plain": [
       "<Figure size 432x288 with 1 Axes>"
      ]
     },
     "metadata": {
      "needs_background": "light"
     },
     "output_type": "display_data"
    },
    {
     "data": {
      "image/png": "[encoded data removed]",
      "text/plain": [
       "<Figure size 432x288 with 2 Axes>"
      ]
     },
     "metadata": {
      "needs_background": "light"
     },
     "output_type": "display_data"
    },
    {
     "name": "stdout",
     "output_type": "stream",
     "text": [
      "0.565\n"
     ]
    }
   ],
   "source": [
    "dtree.fit(x_train, y_train)\n",
    "confusion_matrix = metrics.confusion_matrix(y_test, dtree.predict(x_test))\n",
    "cm_display = metrics.ConfusionMatrixDisplay(confusion_matrix = confusion_matrix)\n",
    "print(classification_report(y_test, dtree.predict(x_test)))\n",
    "plot_tree(dtree)\n",
    "cm_display.plot()\n",
    "plt.show()\n",
    "print(accuracy_score(y_test, dtree.predict(x_test)))"
   ]
  },
  {
   "cell_type": "code",
   "execution_count": 70,
   "metadata": {},
   "outputs": [
    {
     "name": "stdout",
     "output_type": "stream",
     "text": [
      "              precision    recall  f1-score   support\n",
      "\n",
      "           0       0.76      0.87      0.81        15\n",
      "           1       0.95      0.95      0.95        20\n",
      "           2       0.65      0.58      0.61        19\n",
      "           3       0.56      0.72      0.63        25\n",
      "           4       0.80      0.76      0.78        21\n",
      "           5       0.74      0.88      0.80        16\n",
      "           6       0.88      0.88      0.88        17\n",
      "           7       0.94      0.68      0.79        25\n",
      "           8       0.46      0.61      0.52        18\n",
      "           9       0.50      0.33      0.40        24\n",
      "\n",
      "    accuracy                           0.71       200\n",
      "   macro avg       0.72      0.73      0.72       200\n",
      "weighted avg       0.72      0.71      0.71       200\n",
      "\n"
     ]
    },
    {
     "data": {
      "image/png": "[encoded data removed]",
      "text/plain": [
       "<Figure size 432x288 with 2 Axes>"
      ]
     },
     "metadata": {
      "needs_background": "light"
     },
     "output_type": "display_data"
    },
    {
     "name": "stdout",
     "output_type": "stream",
     "text": [
      "0.71\n"
     ]
    }
   ],
   "source": [
    "rforest.fit(x_train, y_train)\n",
    "confusion_matrix = metrics.confusion_matrix(y_test, rforest.predict(x_test))\n",
    "cm_display = metrics.ConfusionMatrixDisplay(confusion_matrix = confusion_matrix)\n",
    "print(classification_report(y_test, rforest.predict(x_test)))\n",
    "cm_display.plot()\n",
    "plt.show()\n",
    "print(accuracy_score(y_test, rforest.predict(x_test)))"
   ]
  },
  {
   "cell_type": "code",
   "execution_count": 71,
   "metadata": {},
   "outputs": [
    {
     "name": "stdout",
     "output_type": "stream",
     "text": [
      "              precision    recall  f1-score   support\n",
      "\n",
      "           0       0.76      0.87      0.81        15\n",
      "           1       0.95      0.95      0.95        20\n",
      "           2       0.65      0.58      0.61        19\n",
      "           3       0.56      0.72      0.63        25\n",
      "           4       0.80      0.76      0.78        21\n",
      "           5       0.74      0.88      0.80        16\n",
      "           6       0.88      0.88      0.88        17\n",
      "           7       0.94      0.68      0.79        25\n",
      "           8       0.46      0.61      0.52        18\n",
      "           9       0.50      0.33      0.40        24\n",
      "\n",
      "    accuracy                           0.71       200\n",
      "   macro avg       0.72      0.73      0.72       200\n",
      "weighted avg       0.72      0.71      0.71       200\n",
      "\n"
     ]
    },
    {
     "data": {
      "image/png": "[encoded data removed]",
      "text/plain": [
       "<Figure size 432x288 with 2 Axes>"
      ]
     },
     "metadata": {
      "needs_background": "light"
     },
     "output_type": "display_data"
    },
    {
     "name": "stdout",
     "output_type": "stream",
     "text": [
      "0.725\n"
     ]
    }
   ],
   "source": [
    "xgb.fit(x_train, y_train)\n",
    "confusion_matrix = metrics.confusion_matrix(y_test, xgb.predict(x_test))\n",
    "cm_display = metrics.ConfusionMatrixDisplay(confusion_matrix = confusion_matrix)\n",
    "print(classification_report(y_test, rforest.predict(x_test)))\n",
    "cm_display.plot()\n",
    "plt.show()\n",
    "print(accuracy_score(y_test, xgb.predict(x_test)))"
   ]
  },
  {
   "cell_type": "code",
   "execution_count": 72,
   "metadata": {},
   "outputs": [
    {
     "name": "stdout",
     "output_type": "stream",
     "text": [
      "1\n",
      "2\n",
      "3\n",
      "4\n",
      "5\n",
      "6\n",
      "7\n",
      "8\n",
      "9\n",
      "10\n",
      "11\n",
      "12\n",
      "13\n",
      "14\n",
      "15\n",
      "16\n",
      "17\n",
      "18\n",
      "19\n",
      "20\n",
      "21\n",
      "22\n",
      "23\n",
      "24\n",
      "25\n",
      "26\n",
      "27\n",
      "28\n",
      "29\n",
      "30\n",
      "31\n",
      "32\n",
      "33\n",
      "34\n",
      "35\n",
      "36\n",
      "37\n",
      "38\n",
      "39\n",
      "40\n",
      "41\n",
      "42\n",
      "43\n",
      "44\n",
      "45\n",
      "46\n",
      "47\n",
      "48\n",
      "49\n",
      "50\n",
      "51\n",
      "52\n",
      "53\n",
      "54\n",
      "55\n",
      "56\n",
      "57\n",
      "58\n",
      "59\n",
      "60\n",
      "61\n",
      "62\n",
      "63\n",
      "64\n",
      "65\n",
      "66\n",
      "67\n",
      "68\n",
      "69\n",
      "70\n",
      "71\n",
      "72\n",
      "73\n",
      "74\n",
      "75\n",
      "76\n",
      "77\n",
      "78\n",
      "79\n",
      "80\n",
      "81\n",
      "82\n",
      "83\n",
      "84\n",
      "85\n",
      "86\n",
      "87\n",
      "88\n",
      "89\n",
      "90\n",
      "91\n",
      "92\n",
      "93\n",
      "94\n",
      "95\n",
      "96\n",
      "97\n",
      "98\n",
      "99\n",
      "[0.58, 0.625, 0.65, 0.65, 0.675, 0.71, 0.705, 0.695, 0.715, 0.715, 0.72, 0.725, 0.725, 0.725, 0.72, 0.725, 0.73, 0.7, 0.75, 0.705, 0.71, 0.715, 0.695, 0.725, 0.7, 0.71, 0.705, 0.705, 0.705, 0.69, 0.7, 0.735, 0.71, 0.725, 0.71, 0.695, 0.695, 0.705, 0.7, 0.7, 0.685, 0.695, 0.7, 0.675, 0.7, 0.67, 0.685, 0.685, 0.685, 0.7, 0.69, 0.7, 0.7, 0.685, 0.69, 0.67, 0.68, 0.685, 0.71, 0.695, 0.695, 0.655, 0.69, 0.67, 0.655, 0.675, 0.685, 0.685, 0.67, 0.68, 0.675, 0.67, 0.66, 0.66, 0.665, 0.69, 0.675, 0.68, 0.68, 0.68, 0.67, 0.675, 0.7, 0.69, 0.665, 0.66, 0.685, 0.67, 0.675, 0.66, 0.695, 0.68, 0.685, 0.67, 0.685, 0.66, 0.66, 0.695, 0.685] [0.01, 0.02, 0.03, 0.04, 0.05, 0.06, 0.07, 0.08, 0.09, 0.1, 0.11, 0.12, 0.13, 0.14, 0.15, 0.16, 0.17, 0.18, 0.19, 0.2, 0.21, 0.22, 0.23, 0.24, 0.25, 0.26, 0.27, 0.28, 0.29, 0.3, 0.31, 0.32, 0.33, 0.34, 0.35, 0.36, 0.37, 0.38, 0.39, 0.4, 0.41, 0.42, 0.43, 0.44, 0.45, 0.46, 0.47, 0.48, 0.49, 0.5, 0.51, 0.52, 0.53, 0.54, 0.55, 0.56, 0.57, 0.58, 0.59, 0.6, 0.61, 0.62, 0.63, 0.64, 0.65, 0.66, 0.67, 0.68, 0.69, 0.7, 0.71, 0.72, 0.73, 0.74, 0.75, 0.76, 0.77, 0.78, 0.79, 0.8, 0.81, 0.82, 0.83, 0.84, 0.85, 0.86, 0.87, 0.88, 0.89, 0.9, 0.91, 0.92, 0.93, 0.94, 0.95, 0.96, 0.97, 0.98, 0.99]\n"
     ]
    },
    {
     "data": {
      "image/png": "[encoded data removed]",
      "text/plain": [
       "<Figure size 432x288 with 1 Axes>"
      ]
     },
     "metadata": {
      "needs_background": "light"
     },
     "output_type": "display_data"
    }
   ],
   "source": [
    "test_acc = []\n",
    "sample_num = []\n",
    "for i in range(1, 100):\n",
    "    xbg = XGBClassifier(learning_rate = i/100)\n",
    "    xbg.fit(x_train, y_train)\n",
    "    test_acc.append(accuracy_score(y_test, xbg.predict(x_test)))\n",
    "    # xgb = XGBClassifier(max_depth = i)\n",
    "    # rforest = RandomForestClassifier(max_depth = i)\n",
    "    sample_num.append(i/100)\n",
    "    print(i)\n",
    "y1 = test_acc\n",
    "x = sample_num\n",
    "print(y1, x)\n",
    "plt.plot(x, y1)\n",
    "plt.show()\n"
   ]
  },
  {
   "cell_type": "code",
   "execution_count": 73,
   "metadata": {},
   "outputs": [
    {
     "name": "stdout",
     "output_type": "stream",
     "text": [
      "[0.395, 0.435, 0.51, 0.575, 0.62, 0.665, 0.66, 0.66, 0.685] [0.43125, 0.51625, 0.63625, 0.7425, 0.825, 0.915, 0.96, 0.9825, 0.99625] [1, 2, 3, 4, 5, 6, 7, 8, 9]\n"
     ]
    },
    {
     "data": {
      "image/png": "[encoded data removed]",
      "text/plain": [
       "<Figure size 432x288 with 1 Axes>"
      ]
     },
     "metadata": {
      "needs_background": "light"
     },
     "output_type": "display_data"
    }
   ],
   "source": [
    "train_acc = []\n",
    "test_acc = []\n",
    "sample_num = []\n",
    "for i in range(1, 10):\n",
    "    rforest = RandomForestClassifier(max_depth = i)\n",
    "    rforest.fit(x_train, y_train)\n",
    "    train_acc.append(accuracy_score(y_train, rforest.predict(x_train)))\n",
    "    test_acc.append(accuracy_score(y_test, rforest.predict(x_test)))\n",
    "    # xgb = XGBClassifier(max_depth = i)\n",
    "    # rforest = RandomForestClassifier(max_depth = i)\n",
    "    sample_num.append(i)\n",
    "y1 = test_acc\n",
    "x = sample_num\n",
    "y2 = train_acc\n",
    "print(y1, y2, x)\n",
    "plt.plot(x, y1)\n",
    "plt.plot(x, y2)\n",
    "plt.show()\n"
   ]
  },
  {
   "cell_type": "code",
   "execution_count": 74,
   "metadata": {},
   "outputs": [
    {
     "name": "stdout",
     "output_type": "stream",
     "text": [
      "[0.705, 0.695, 0.69, 0.695, 0.655, 0.65, 0.645, 0.665, 0.635, 0.605, 0.635, 0.605, 0.625, 0.62, 0.61, 0.625, 0.59, 0.595, 0.595, 0.57, 0.565, 0.58, 0.56, 0.555, 0.565, 0.54, 0.545, 0.545, 0.54, 0.535, 0.53, 0.57, 0.53, 0.52, 0.52, 0.55, 0.525, 0.505, 0.535, 0.515, 0.5, 0.52, 0.53, 0.49, 0.49, 0.51, 0.505, 0.52, 0.48, 0.5, 0.51, 0.465, 0.505, 0.48, 0.49, 0.485, 0.48, 0.47, 0.48, 0.46, 0.47, 0.435, 0.44, 0.44, 0.465, 0.43, 0.455, 0.44, 0.445, 0.43, 0.42, 0.435, 0.415, 0.42, 0.435, 0.405, 0.44, 0.39, 0.385, 0.41, 0.43, 0.38, 0.395, 0.425, 0.4, 0.39, 0.38, 0.4, 0.4, 0.37, 0.365, 0.39, 0.38, 0.385, 0.39, 0.395, 0.39, 0.365, 0.375] [0.99875, 0.9975, 0.995, 0.9775, 0.9675, 0.94125, 0.92375, 0.905, 0.89375, 0.87375, 0.86125, 0.855, 0.84125, 0.825, 0.82125, 0.81, 0.79125, 0.78875, 0.77, 0.76125, 0.75125, 0.74875, 0.7425, 0.73875, 0.7225, 0.72875, 0.7125, 0.7075, 0.695, 0.7, 0.68375, 0.69875, 0.68375, 0.6725, 0.66875, 0.6725, 0.6725, 0.6625, 0.6525, 0.6525, 0.6325, 0.6475, 0.63, 0.6225, 0.63125, 0.6325, 0.6125, 0.63, 0.595, 0.61625, 0.6225, 0.595, 0.6075, 0.6125, 0.5825, 0.5775, 0.59875, 0.58375, 0.58875, 0.59125, 0.58625, 0.58, 0.57875, 0.56375, 0.575, 0.5475, 0.55625, 0.56875, 0.56125, 0.55, 0.55125, 0.545, 0.5475, 0.545, 0.54375, 0.5475, 0.55, 0.505, 0.5275, 0.5275, 0.52375, 0.48, 0.50875, 0.52, 0.5, 0.50625, 0.47875, 0.48125, 0.50125, 0.47, 0.49, 0.4675, 0.47625, 0.46875, 0.495, 0.47875, 0.46625, 0.4475, 0.46125] [1, 2, 3, 4, 5, 6, 7, 8, 9, 10, 11, 12, 13, 14, 15, 16, 17, 18, 19, 20, 21, 22, 23, 24, 25, 26, 27, 28, 29, 30, 31, 32, 33, 34, 35, 36, 37, 38, 39, 40, 41, 42, 43, 44, 45, 46, 47, 48, 49, 50, 51, 52, 53, 54, 55, 56, 57, 58, 59, 60, 61, 62, 63, 64, 65, 66, 67, 68, 69, 70, 71, 72, 73, 74, 75, 76, 77, 78, 79, 80, 81, 82, 83, 84, 85, 86, 87, 88, 89, 90, 91, 92, 93, 94, 95, 96, 97, 98, 99]\n"
     ]
    },
    {
     "data": {
      "image/png": "[encoded data removed]",
      "text/plain": [
       "<Figure size 432x288 with 1 Axes>"
      ]
     },
     "metadata": {
      "needs_background": "light"
     },
     "output_type": "display_data"
    }
   ],
   "source": [
    "train_acc = []\n",
    "test_acc = []\n",
    "sample_num = []\n",
    "for i in range(1, 100):\n",
    "    rforest = RandomForestClassifier(min_samples_leaf = i)\n",
    "    rforest.fit(x_train, y_train)\n",
    "    train_acc.append(accuracy_score(y_train, rforest.predict(x_train)))\n",
    "    test_acc.append(accuracy_score(y_test, rforest.predict(x_test)))\n",
    "    # xgb = XGBClassifier(max_depth = i)\n",
    "    # rforest = RandomForestClassifier(max_depth = i)\n",
    "    sample_num.append(i)\n",
    "y1 = test_acc\n",
    "x = sample_num\n",
    "y2 = train_acc\n",
    "print(y1, y2, x)\n",
    "plt.plot(x, y1)\n",
    "plt.plot(x, y2)\n",
    "plt.show()"
   ]
  }
 ],
 "metadata": {
  "kernelspec": {
   "display_name": "Python 3.10.5 64-bit",
   "language": "python",
   "name": "python3"
  },
  "language_info": {
   "codemirror_mode": {
    "name": "ipython",
    "version": 3
   },
   "file_extension": ".py",
   "mimetype": "text/x-python",
   "name": "python",
   "nbconvert_exporter": "python",
   "pygments_lexer": "ipython3",
   "version": "3.10.5"
  },
  "orig_nbformat": 4,
  "vscode": {
   "interpreter": {
    "hash": "d2d29a96801dfe5bf700e242782afe03629fc595f513e6b443d9d8130ab5dc29"
   }
  }
 },
 "nbformat": 4,
 "nbformat_minor": 2
}
